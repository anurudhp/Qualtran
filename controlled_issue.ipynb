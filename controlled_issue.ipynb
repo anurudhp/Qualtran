{
 "cells": [
  {
   "cell_type": "code",
   "execution_count": null,
   "id": "0",
   "metadata": {},
   "outputs": [],
   "source": [
    "from qualtran import Bloq\n",
    "from qualtran.bloqs.for_testing.random_select_and_prepare import TestPrepareOracle\n",
    "from qualtran.bloqs.reflections.reflection_using_prepare import ReflectionUsingPrepare\n",
    "from qualtran.drawing import show_bloq"
   ]
  },
  {
   "cell_type": "code",
   "execution_count": null,
   "id": "1",
   "metadata": {},
   "outputs": [],
   "source": [
    "prepare = TestPrepareOracle.random(3, random_state=42)\n",
    "show_bloq(prepare.decompose_bloq())"
   ]
  },
  {
   "cell_type": "code",
   "execution_count": null,
   "id": "2",
   "metadata": {},
   "outputs": [],
   "source": [
    "R = ReflectionUsingPrepare(prepare)\n",
    "show_bloq(R)"
   ]
  },
  {
   "cell_type": "code",
   "execution_count": null,
   "id": "3",
   "metadata": {},
   "outputs": [],
   "source": [
    "cb_direct = R.controlled().decompose_bloq()\n",
    "show_bloq(cb_direct)"
   ]
  },
  {
   "cell_type": "code",
   "execution_count": null,
   "id": "4",
   "metadata": {},
   "outputs": [],
   "source": [
    "class Wrapped(Bloq):\n",
    "    @property\n",
    "    def signature(self) -> 'Signature':\n",
    "        return R.signature\n",
    "\n",
    "    def build_composite_bloq(self, bb: 'BloqBuilder', **soqs: 'SoquetT') -> dict[str, 'SoquetT']:\n",
    "        return bb.add_d(R, **soqs)\n",
    "\n",
    "\n",
    "cb_wrapped = Wrapped().controlled().decompose_bloq().flatten_once(lambda _: True)\n",
    "show_bloq(cb_wrapped)"
   ]
  },
  {
   "cell_type": "code",
   "execution_count": null,
   "id": "5",
   "metadata": {},
   "outputs": [],
   "source": [
    "cb_decomp_then_control = R.decompose_bloq().controlled().decompose_bloq()\n",
    "show_bloq(cb_decomp_then_control)"
   ]
  }
 ],
 "metadata": {
  "kernelspec": {
   "display_name": "python3",
   "language": "python",
   "name": "python3"
  }
 },
 "nbformat": 4,
 "nbformat_minor": 5
}
