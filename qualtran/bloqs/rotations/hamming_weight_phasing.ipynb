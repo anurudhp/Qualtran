{
 "cells": [
  {
   "cell_type": "markdown",
   "id": "282cc8bb",
   "metadata": {
    "cq.autogen": "title_cell"
   },
   "source": [
    "# Z Rotations via Hamming Weight Phasing"
   ]
  },
  {
   "cell_type": "code",
   "execution_count": null,
   "id": "d5667357",
   "metadata": {
    "cq.autogen": "top_imports"
   },
   "outputs": [],
   "source": [
    "from qualtran import Bloq, CompositeBloq, BloqBuilder, Signature, Register\n",
    "from qualtran import QBit, QInt, QUInt, QAny\n",
    "from qualtran.drawing import show_bloq, show_call_graph, show_counts_sigma\n",
    "from typing import *\n",
    "import numpy as np\n",
    "import sympy\n",
    "import cirq"
   ]
  },
  {
   "cell_type": "markdown",
   "id": "cffa2d72",
   "metadata": {
    "cq.autogen": "HammingWeightPhasing.bloq_doc.md"
   },
   "source": [
    "## `HammingWeightPhasing`\n",
    "Applies $Z^{\\text{exponent}}$ to every qubit of an input register of size `bitsize`.\n",
    "\n",
    "The goal of Hamming Weight Phasing is to reduce the number of rotations needed to\n",
    "apply a single qubit rotation $Z^{\\texttt{exponent}}$\n",
    "to every qubit of an input register `x` of size `bitsize` from `bitsize` to $O(\\log (\\texttt{bitsize}))$.\n",
    "Naively this would take exactly `bitsize` rotations to be synthesized. The number of rotations synthesized is\n",
    "reduced by taking advantage of the insight that the resulting phase that is applied to\n",
    "an input state only depends on the Hamming weight of the state. Since each `1` that is present in the input register\n",
    "accumulates a phase of $(-1)^{\\texttt{exponenet}}$, the total accumulated\n",
    "phase of an input basis state is $(-1)^{\\text{exponent} * HW(x)}$, where\n",
    "$HW(x)$ is the Hamming weight of $x$. The overall procedure is done in 3 steps:\n",
    "\n",
    "1. Compute the input register Hamming weight coherently using (at-most) $\\texttt{bitsize}-1$ ancilla\n",
    "    and Toffolis, storing the result in a newly allocated output\n",
    "    register of size $\\log_2(\\texttt{bitsize})$. $HW|x\\rangle \\mapsto |x\\rangle |HW(x)\\rangle$.\n",
    "    See `HammingWeightCompute` for implementation details of this step.\n",
    "2. Apply $Z^{2^{k}\\text{exponent}}$ to the k'th qubit of newly allocated Hamming weight\n",
    "     register.\n",
    "3. Uncompute the Hamming weight register and ancillas allocated in Step-1 with 0 Toffoli\n",
    "    cost.\n",
    "\n",
    "Since the size of the Hamming weight register is $\\log_2(\\texttt{bitsize})$, as the maximum\n",
    "Hamming weight is $\\texttt{bitsize}$ and we only need $\\log_2$ bits to store that as an integer, we\n",
    "have reduced the number of costly rotations to be synthesized from $\\texttt{bitsize}$\n",
    "to $\\log_2(\\texttt{bitsize})$. This procedure uses $\\texttt{bitsize} - HW(\\texttt{bitsize})$\n",
    "Toffoli's and $\\texttt{bitsize} - HW(\\texttt{bitsize}) + \\log_2(\\texttt{bitsize})$\n",
    "ancilla qubits to achieve this reduction in rotations.\n",
    "\n",
    "#### Parameters\n",
    " - `bitsize`: Size of input register to apply `Z ** exponent` to.\n",
    " - `exponent`: The exponent of `Z ** exponent` to be applied to each qubit in the input register.\n",
    " - `eps`: Accuracy of synthesizing the Z rotations. \n",
    "\n",
    "#### Registers\n",
    " - `x`: A `THRU` register of `bitsize` qubits.\n",
    " - `extra_registers`: Any additional registers used by the `QvrInterface` phase oracle. \n",
    "\n",
    "#### References\n",
    " - [Halving the cost of quantum addition](https://arxiv.org/abs/1709.06648). , Page-4\n"
   ]
  },
  {
   "cell_type": "code",
   "execution_count": null,
   "id": "f9abd0f3",
   "metadata": {
    "cq.autogen": "HammingWeightPhasing.bloq_doc.py"
   },
   "outputs": [],
   "source": [
    "from qualtran.bloqs.rotations import HammingWeightPhasing"
   ]
  },
  {
   "cell_type": "markdown",
   "id": "1b53bed1",
   "metadata": {
    "cq.autogen": "HammingWeightPhasing.example_instances.md"
   },
   "source": [
    "### Example Instances"
   ]
  },
  {
   "cell_type": "code",
   "execution_count": null,
   "id": "994befc5",
   "metadata": {
    "cq.autogen": "HammingWeightPhasing.hamming_weight_phasing"
   },
   "outputs": [],
   "source": [
    "hamming_weight_phasing = HammingWeightPhasing(4, np.pi / 2.0)\n",
    "# Applying this unitary to |1111> should be the identity, and |0101> will flip the sign."
   ]
  },
  {
   "cell_type": "code",
   "execution_count": null,
   "id": "c915f606",
   "metadata": {
    "cq.autogen": "HammingWeightPhasing.hamming_weight_phasing_via_phase_gradient"
   },
   "outputs": [],
   "source": [
    "hamming_weight_phasing_via_phase_gradient = HammingWeightPhasing.via_phase_gradient(\n",
    "    4, np.pi / 2.0\n",
    ")\n",
    "print(\"Applying this unitary to |1111> should be the identity, and |0101> will flip the sign.\")"
   ]
  },
  {
   "cell_type": "markdown",
   "id": "4cb63602",
   "metadata": {
    "cq.autogen": "HammingWeightPhasing.graphical_signature.md"
   },
   "source": [
    "#### Graphical Signature"
   ]
  },
  {
   "cell_type": "code",
   "execution_count": null,
   "id": "c75c6f5c",
   "metadata": {
    "cq.autogen": "HammingWeightPhasing.graphical_signature.py"
   },
   "outputs": [],
   "source": [
    "from qualtran.drawing import show_bloqs\n",
    "show_bloqs([hamming_weight_phasing, hamming_weight_phasing_via_phase_gradient],\n",
    "           ['`hamming_weight_phasing`', '`hamming_weight_phasing_via_phase_gradient`'])"
   ]
  },
  {
   "cell_type": "markdown",
   "id": "7ce738e2",
   "metadata": {
    "cq.autogen": "HammingWeightPhasing.call_graph.md"
   },
   "source": [
    "### Call Graph"
   ]
  },
  {
   "cell_type": "code",
   "execution_count": null,
   "id": "6c9fb152",
   "metadata": {
    "cq.autogen": "HammingWeightPhasing.call_graph.py"
   },
   "outputs": [],
   "source": [
    "from qualtran.resource_counting.generalizers import ignore_split_join\n",
    "hamming_weight_phasing_g, hamming_weight_phasing_sigma = hamming_weight_phasing.call_graph(max_depth=1, generalizer=ignore_split_join)\n",
    "show_call_graph(hamming_weight_phasing_g)\n",
    "show_counts_sigma(hamming_weight_phasing_sigma)"
   ]
  }
 ],
 "metadata": {
  "kernelspec": {
   "display_name": "Python 3",
   "language": "python",
   "name": "python3"
  },
  "language_info": {
   "name": "python"
  }
 },
 "nbformat": 4,
 "nbformat_minor": 5
}
