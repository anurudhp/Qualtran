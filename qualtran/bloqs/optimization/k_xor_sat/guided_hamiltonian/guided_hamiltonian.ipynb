{
 "cells": [
  {
   "cell_type": "markdown",
   "id": "e299e7a9",
   "metadata": {
    "cq.autogen": "title_cell"
   },
   "source": [
    "# Guided (sparse) Hamiltonian Problem\n",
    "\n",
    "Section 4.4.2 Simulating the Kikuchi Hamiltonian\n",
    "\n",
    "This module contains oracles to implement the block-encoding of the Kikuchi\n",
    "Hamiltonian corresponding to an input k-XOR-SAT instance.\n",
    "\n",
    "References:\n",
    "    [Quartic quantum speedups for planted inference](https://arxiv.org/abs/2406.19378v1)\n",
    "    Section 4.4.2 for algorithm. Section 2.4 for definitions and notation."
   ]
  },
  {
   "cell_type": "code",
   "execution_count": null,
   "id": "e2be674c",
   "metadata": {
    "cq.autogen": "top_imports"
   },
   "outputs": [],
   "source": [
    "from qualtran import Bloq, CompositeBloq, BloqBuilder, Signature, Register\n",
    "from qualtran import QBit, QInt, QUInt, QAny\n",
    "from qualtran.drawing import show_bloq, show_call_graph, show_counts_sigma\n",
    "from typing import *\n",
    "import numpy as np\n",
    "import sympy\n",
    "import cirq"
   ]
  },
  {
   "cell_type": "markdown",
   "id": "8d10248d",
   "metadata": {
    "cq.autogen": "GuidedHamiltonian.bloq_doc.md"
   },
   "source": [
    "## `GuidedHamiltonian`\n",
    "Solve the guided (sparse) hamiltonian problem.\n",
    "\n",
    "Definition 4.8 (modified to accept any block-encoding):\n",
    "In the Guided Hamiltonian problem we are given the following as input:\n",
    "\n",
    "1. A $(\\sqrt{2} s, \\cdot, 0)$-block-encoding of a Hamiltonian $H$ such that $\\|H\\|_\\max \\le s$.\n",
    "2. A unitary program that prepares $|\\Psi\\rangle|0^A\\rangle$.\n",
    "3. Parameters $\\lambda \\in [-\\Lambda, \\Lambda]$, $\\alpha \\in (0, 1)$, $\\gamma \\in (0, 1]$.\n",
    "\n",
    "and we should output\n",
    "\n",
    "- YES (1) if $\\| \\Pi_{\\ge \\lambda} (H) |\\Psi\\rangle \\| \\ge \\gamma$\n",
    "- NO (0) if $\\|H\\| \\le (1 - \\alpha) \\lambda$\n",
    "\n",
    "Note that the above drops the sparse requirement, and accepts any\n",
    "$(\\alpha_H, \\cdot, \\cdot)$-block-encoding of $H$.\n",
    "In the sparse Hamiltonian case, $\\alpha_H = s$ (where $s$ is the sparsity).\n",
    "\n",
    "Algorithm (Theorem 4.9):\n",
    "    This uses phase estimation on the block-encoding of $e^{iHt}$, and then uses\n",
    "    amplitude amplification to increase the success probability to $1 - o(1)$.\n",
    "\n",
    "We instead directly do phase-estimation on the qubitized (Szegedy) walk operator for $H$\n",
    "\n",
    "#### Parameters\n",
    " - `hamiltonian`: the block-encoding of $H$\n",
    " - `guiding_state`: the unitary that prepares $|\\Psi\\rangle$\n",
    " - `lambd`: parameter $\\lambda$\n",
    " - `alpha`: parameter $\\alpha$\n",
    " - `gamma`: parameter $\\gamma$ \n",
    "\n",
    "#### References\n",
    " - [Quartic quantum speedups for planted inference](https://arxiv.org/abs/2406.19378v1). Section 4.2 \"Guided Sparse Hamiltonian Problem\".\n"
   ]
  },
  {
   "cell_type": "code",
   "execution_count": null,
   "id": "29d536c3",
   "metadata": {
    "cq.autogen": "GuidedHamiltonian.bloq_doc.py"
   },
   "outputs": [],
   "source": [
    "from qualtran.bloqs.optimization.k_xor_sat.guided_hamiltonian import GuidedHamiltonian"
   ]
  },
  {
   "cell_type": "markdown",
   "id": "a216ac70",
   "metadata": {
    "cq.autogen": "GuidedHamiltonian.example_instances.md"
   },
   "source": [
    "### Example Instances"
   ]
  },
  {
   "cell_type": "code",
   "execution_count": null,
   "id": "fabf68e4",
   "metadata": {
    "cq.autogen": "GuidedHamiltonian.guided_hamiltonian"
   },
   "outputs": [],
   "source": [
    "import sympy\n",
    "\n",
    "from qualtran.bloqs.optimization.k_xor_sat import GuidingState, KikuchiHamiltonian, KXorInstance\n",
    "from qualtran.bloqs.state_preparation.black_box_prepare import BlackBoxPrepare\n",
    "from qualtran.symbolics import ceil, log2\n",
    "\n",
    "n, k, m, c = sympy.symbols(\"n k m c\", positive=True, integer=True)\n",
    "zeta = sympy.symbols(r\"\\zeta\", positive=True)\n",
    "\n",
    "inst_guide = KXorInstance.symbolic(n, (1 - zeta) * m, k, max_rhs=2)\n",
    "inst_solve = KXorInstance.symbolic(n, zeta * m, k, max_rhs=2)\n",
    "l = c * k\n",
    "s = l * ceil(log2(n))\n",
    "\n",
    "Psi = GuidingState(inst_guide, l)\n",
    "H = KikuchiHamiltonian(inst_solve, c * k, s)\n",
    "\n",
    "lambd, alpha, gamma = sympy.symbols(r\"\\lambda \\alpha \\gamma\", positive=True, real=True)\n",
    "guided_hamiltonian = GuidedHamiltonian(H, BlackBoxPrepare(Psi), lambd, alpha, gamma)"
   ]
  },
  {
   "cell_type": "markdown",
   "id": "7ad9d994",
   "metadata": {
    "cq.autogen": "GuidedHamiltonian.graphical_signature.md"
   },
   "source": [
    "#### Graphical Signature"
   ]
  },
  {
   "cell_type": "code",
   "execution_count": null,
   "id": "5ae17ad5",
   "metadata": {
    "cq.autogen": "GuidedHamiltonian.graphical_signature.py"
   },
   "outputs": [],
   "source": [
    "from qualtran.drawing import show_bloqs\n",
    "show_bloqs([guided_hamiltonian],\n",
    "           ['`guided_hamiltonian`'])"
   ]
  },
  {
   "cell_type": "markdown",
   "id": "1b3e1663",
   "metadata": {
    "cq.autogen": "GuidedHamiltonian.call_graph.md"
   },
   "source": [
    "### Call Graph"
   ]
  },
  {
   "cell_type": "code",
   "execution_count": null,
   "id": "08946e48",
   "metadata": {
    "cq.autogen": "GuidedHamiltonian.call_graph.py"
   },
   "outputs": [],
   "source": [
    "from qualtran.resource_counting.generalizers import ignore_split_join\n",
    "guided_hamiltonian_g, guided_hamiltonian_sigma = guided_hamiltonian.call_graph(max_depth=1, generalizer=ignore_split_join)\n",
    "show_call_graph(guided_hamiltonian_g)\n",
    "show_counts_sigma(guided_hamiltonian_sigma)"
   ]
  },
  {
   "cell_type": "markdown",
   "id": "0b22b193",
   "metadata": {
    "cq.autogen": "GuidedHamiltonianPhaseEstimation.bloq_doc.md"
   },
   "source": [
    "## `GuidedHamiltonianPhaseEstimation`\n",
    "Implement the phase estimation algorithm $U_\\text{PE}$"
   ]
  },
  {
   "cell_type": "code",
   "execution_count": null,
   "id": "b3806eb0",
   "metadata": {
    "cq.autogen": "GuidedHamiltonianPhaseEstimation.bloq_doc.py"
   },
   "outputs": [],
   "source": [
    "from qualtran.bloqs.optimization.k_xor_sat.guided_hamiltonian import GuidedHamiltonianPhaseEstimation"
   ]
  },
  {
   "cell_type": "markdown",
   "id": "500f891d",
   "metadata": {
    "cq.autogen": "GuidedHamiltonianPhaseEstimation.example_instances.md"
   },
   "source": [
    "### Example Instances"
   ]
  },
  {
   "cell_type": "code",
   "execution_count": null,
   "id": "bfdbf9a6",
   "metadata": {
    "cq.autogen": "GuidedHamiltonianPhaseEstimation.guided_phase_estimate_symb"
   },
   "outputs": [],
   "source": [
    "import sympy\n",
    "\n",
    "from qualtran.bloqs.optimization.k_xor_sat import GuidingState, KikuchiHamiltonian, KXorInstance\n",
    "from qualtran.bloqs.state_preparation.black_box_prepare import BlackBoxPrepare\n",
    "from qualtran.symbolics import ceil, log2\n",
    "\n",
    "n, k, c = sympy.symbols(\"n k c\", positive=True, integer=True)\n",
    "m_guide, m_solve = sympy.symbols(\"m_1 m_2\", positive=True, integer=True)\n",
    "\n",
    "inst_guide = KXorInstance.symbolic(n, m_guide, k, max_rhs=2)\n",
    "inst_solve = KXorInstance.symbolic(n, m_solve, k, max_rhs=2)\n",
    "l = c * k\n",
    "s = l * ceil(log2(n))\n",
    "\n",
    "Psi = GuidingState(inst_guide, l)\n",
    "H = KikuchiHamiltonian(inst_solve, c * k, s)\n",
    "\n",
    "eps, delta = sympy.symbols(r\"\\epsilon_{PE} \\delta_{PE}\", positive=True, real=True)\n",
    "guided_phase_estimate_symb = GuidedHamiltonianPhaseEstimation(\n",
    "    H, BlackBoxPrepare(Psi), eps, delta\n",
    ")\n"
   ]
  },
  {
   "cell_type": "markdown",
   "id": "d6408318",
   "metadata": {
    "cq.autogen": "GuidedHamiltonianPhaseEstimation.graphical_signature.md"
   },
   "source": [
    "#### Graphical Signature"
   ]
  },
  {
   "cell_type": "code",
   "execution_count": null,
   "id": "3a1d74b2",
   "metadata": {
    "cq.autogen": "GuidedHamiltonianPhaseEstimation.graphical_signature.py"
   },
   "outputs": [],
   "source": [
    "from qualtran.drawing import show_bloqs\n",
    "show_bloqs([guided_phase_estimate_symb],\n",
    "           ['`guided_phase_estimate_symb`'])"
   ]
  },
  {
   "cell_type": "markdown",
   "id": "a5d710cd",
   "metadata": {
    "cq.autogen": "GuidedHamiltonianPhaseEstimation.call_graph.md"
   },
   "source": [
    "### Call Graph"
   ]
  },
  {
   "cell_type": "code",
   "execution_count": null,
   "id": "749b6440",
   "metadata": {
    "cq.autogen": "GuidedHamiltonianPhaseEstimation.call_graph.py"
   },
   "outputs": [],
   "source": [
    "from qualtran.resource_counting.generalizers import ignore_split_join\n",
    "guided_phase_estimate_symb_g, guided_phase_estimate_symb_sigma = guided_phase_estimate_symb.call_graph(max_depth=1, generalizer=ignore_split_join)\n",
    "show_call_graph(guided_phase_estimate_symb_g)\n",
    "show_counts_sigma(guided_phase_estimate_symb_sigma)"
   ]
  }
 ],
 "metadata": {
  "kernelspec": {
   "display_name": "Python 3",
   "language": "python",
   "name": "python3"
  },
  "language_info": {
   "name": "python"
  }
 },
 "nbformat": 4,
 "nbformat_minor": 5
}
